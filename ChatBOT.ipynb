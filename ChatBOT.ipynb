{
  "nbformat": 4,
  "nbformat_minor": 0,
  "metadata": {
    "colab": {
      "provenance": [],
      "mount_file_id": "1e4AAut_hlY9tZ10tzIHrFTjmp9Xflas-",
      "authorship_tag": "ABX9TyPGOteEqfO2Pjo2hr5y4sWo",
      "include_colab_link": true
    },
    "kernelspec": {
      "name": "python3",
      "display_name": "Python 3"
    },
    "language_info": {
      "name": "python"
    },
    "accelerator": "GPU",
    "gpuClass": "standard"
  },
  "cells": [
    {
      "cell_type": "markdown",
      "metadata": {
        "id": "view-in-github",
        "colab_type": "text"
      },
      "source": [
        "<a href=\"https://colab.research.google.com/github/boppana-tejkiran/Chat-bot/blob/main/ChatBOT.ipynb\" target=\"_parent\"><img src=\"https://colab.research.google.com/assets/colab-badge.svg\" alt=\"Open In Colab\"/></a>"
      ]
    },
    {
      "cell_type": "code",
      "source": [
        "from google.colab import drive\n",
        "drive.mount('/content/drive')"
      ],
      "metadata": {
        "colab": {
          "base_uri": "https://localhost:8080/"
        },
        "id": "gwN08kEkIzGM",
        "outputId": "178298c9-4873-47a4-a5fe-55f225e67ae9"
      },
      "execution_count": null,
      "outputs": [
        {
          "output_type": "stream",
          "name": "stdout",
          "text": [
            "Drive already mounted at /content/drive; to attempt to forcibly remount, call drive.mount(\"/content/drive\", force_remount=True).\n"
          ]
        }
      ]
    },
    {
      "cell_type": "code",
      "source": [
        "!wget https://nlp.stanford.edu/data/glove.6B.zip\n",
        "!unzip glove.6B.zip"
      ],
      "metadata": {
        "colab": {
          "base_uri": "https://localhost:8080/"
        },
        "id": "1mhrGkGieWsU",
        "outputId": "963da206-53f6-4b25-b3a6-551d57db424b"
      },
      "execution_count": null,
      "outputs": [
        {
          "output_type": "stream",
          "name": "stdout",
          "text": [
            "--2023-01-27 09:30:46--  https://nlp.stanford.edu/data/glove.6B.zip\n",
            "Resolving nlp.stanford.edu (nlp.stanford.edu)... 171.64.67.140\n",
            "Connecting to nlp.stanford.edu (nlp.stanford.edu)|171.64.67.140|:443... connected.\n",
            "HTTP request sent, awaiting response... 301 Moved Permanently\n",
            "Location: https://downloads.cs.stanford.edu/nlp/data/glove.6B.zip [following]\n",
            "--2023-01-27 09:30:47--  https://downloads.cs.stanford.edu/nlp/data/glove.6B.zip\n",
            "Resolving downloads.cs.stanford.edu (downloads.cs.stanford.edu)... 171.64.64.22\n",
            "Connecting to downloads.cs.stanford.edu (downloads.cs.stanford.edu)|171.64.64.22|:443... connected.\n",
            "HTTP request sent, awaiting response... 200 OK\n",
            "Length: 862182613 (822M) [application/zip]\n",
            "Saving to: ‘glove.6B.zip.1’\n",
            "\n",
            "glove.6B.zip.1      100%[===================>] 822.24M  5.12MB/s    in 2m 43s  \n",
            "\n",
            "2023-01-27 09:33:30 (5.06 MB/s) - ‘glove.6B.zip.1’ saved [862182613/862182613]\n",
            "\n",
            "Archive:  glove.6B.zip\n",
            "replace glove.6B.50d.txt? [y]es, [n]o, [A]ll, [N]one, [r]ename: n\n",
            "replace glove.6B.100d.txt? [y]es, [n]o, [A]ll, [N]one, [r]ename: n\n",
            "replace glove.6B.200d.txt? [y]es, [n]o, [A]ll, [N]one, [r]ename: n\n",
            "replace glove.6B.300d.txt? [y]es, [n]o, [A]ll, [N]one, [r]ename: n\n"
          ]
        }
      ]
    },
    {
      "cell_type": "code",
      "source": [
        "import torch\n",
        "import torch.nn as nn\n",
        "from torch.utils.data import Dataset, DataLoader\n",
        "import numpy as np\n",
        "import pandas as pd\n",
        "import string\n",
        "import matplotlib"
      ],
      "metadata": {
        "id": "pJYEm5qDUkkx"
      },
      "execution_count": null,
      "outputs": []
    },
    {
      "cell_type": "code",
      "execution_count": null,
      "metadata": {
        "colab": {
          "base_uri": "https://localhost:8080/"
        },
        "id": "oFGQKDxztKQ9",
        "outputId": "550dcb51-8a82-405e-acb3-12b94fce9d11"
      },
      "outputs": [
        {
          "output_type": "stream",
          "name": "stderr",
          "text": [
            "[nltk_data] Downloading package punkt to /root/nltk_data...\n",
            "[nltk_data]   Package punkt is already up-to-date!\n"
          ]
        }
      ],
      "source": [
        "import nltk\n",
        "nltk.download('punkt')\n",
        "from sklearn.preprocessing import LabelEncoder"
      ]
    },
    {
      "cell_type": "code",
      "source": [
        "glove_dir = \"glove.6B.100d.txt\"\n",
        "embeddings_index = {}\n",
        "file_ = open(glove_dir)\n",
        "for line in file_:\n",
        "    arr = line.split()\n",
        "    single_word = arr[0]\n",
        "    w = np.asarray(arr[1:],dtype='float32')\n",
        "    embeddings_index[single_word] = w\n",
        "file_.close()\n",
        "print('Found %s word vectors.' % len(embeddings_index))"
      ],
      "metadata": {
        "colab": {
          "base_uri": "https://localhost:8080/"
        },
        "id": "YNkeihK-gPdK",
        "outputId": "707d6ff6-4992-4c18-c9a8-f4aa428f332f"
      },
      "execution_count": null,
      "outputs": [
        {
          "output_type": "stream",
          "name": "stdout",
          "text": [
            "Found 400000 word vectors.\n"
          ]
        }
      ]
    },
    {
      "cell_type": "code",
      "source": [
        "import json\n",
        "data_file_path = '/content/drive/MyDrive/Intent.json'"
      ],
      "metadata": {
        "id": "d6OZNc9Qu_no"
      },
      "execution_count": null,
      "outputs": []
    },
    {
      "cell_type": "code",
      "source": [
        "with open(data_file_path, 'r') as f:\n",
        "  intents = json.load(f)"
      ],
      "metadata": {
        "id": "yJrZi8xWN7Ni"
      },
      "execution_count": null,
      "outputs": []
    },
    {
      "cell_type": "code",
      "source": [
        "inputs = []\n",
        "responses = {}\n",
        "tags = []"
      ],
      "metadata": {
        "id": "u28HD48ONcn5"
      },
      "execution_count": null,
      "outputs": []
    },
    {
      "cell_type": "code",
      "source": [
        "for intent in intents['intents']:\n",
        "  for input_pattern in intent[\"text\"]:\n",
        "    inputs.append(input_pattern)\n",
        "    tags.append(intent['intent'])\n",
        "  responses[intent['intent']] = intent[\"responses\"]"
      ],
      "metadata": {
        "id": "EW4keZjJNjcG"
      },
      "execution_count": null,
      "outputs": []
    },
    {
      "cell_type": "code",
      "source": [
        "dataset = pd.DataFrame({'inputs': inputs, 'tags': tags})\n",
        "dataset.head()\n",
        "dataset.sample(frac = 1)"
      ],
      "metadata": {
        "colab": {
          "base_uri": "https://localhost:8080/",
          "height": 424
        },
        "id": "5-Gg3g1ALKOV",
        "outputId": "d87d5593-6177-43cf-f1f6-50608146a441"
      },
      "execution_count": null,
      "outputs": [
        {
          "output_type": "execute_result",
          "data": {
            "text/plain": [
              "                                    inputs             tags\n",
              "52            Do you know what time it is?        TimeQuery\n",
              "110              I am bored gossip with me           Gossip\n",
              "127  Will you open the pod bay door please       PodBayDoor\n",
              "104             You are a very clever girl           Clever\n",
              "116                         Tell me a joke            Jokes\n",
              "..                                     ...              ...\n",
              "74                               Comprendo  UnderstandQuery\n",
              "62                          That's helpful           Thanks\n",
              "69                  Wasn't speaking to you     NotTalking2U\n",
              "112             I want to hear some gossip           Gossip\n",
              "99       Can you see anyone in the camera?           WhoAmI\n",
              "\n",
              "[143 rows x 2 columns]"
            ],
            "text/html": [
              "\n",
              "  <div id=\"df-6f22d4d5-ae62-43b6-a5fb-7d424a7d1c0d\">\n",
              "    <div class=\"colab-df-container\">\n",
              "      <div>\n",
              "<style scoped>\n",
              "    .dataframe tbody tr th:only-of-type {\n",
              "        vertical-align: middle;\n",
              "    }\n",
              "\n",
              "    .dataframe tbody tr th {\n",
              "        vertical-align: top;\n",
              "    }\n",
              "\n",
              "    .dataframe thead th {\n",
              "        text-align: right;\n",
              "    }\n",
              "</style>\n",
              "<table border=\"1\" class=\"dataframe\">\n",
              "  <thead>\n",
              "    <tr style=\"text-align: right;\">\n",
              "      <th></th>\n",
              "      <th>inputs</th>\n",
              "      <th>tags</th>\n",
              "    </tr>\n",
              "  </thead>\n",
              "  <tbody>\n",
              "    <tr>\n",
              "      <th>52</th>\n",
              "      <td>Do you know what time it is?</td>\n",
              "      <td>TimeQuery</td>\n",
              "    </tr>\n",
              "    <tr>\n",
              "      <th>110</th>\n",
              "      <td>I am bored gossip with me</td>\n",
              "      <td>Gossip</td>\n",
              "    </tr>\n",
              "    <tr>\n",
              "      <th>127</th>\n",
              "      <td>Will you open the pod bay door please</td>\n",
              "      <td>PodBayDoor</td>\n",
              "    </tr>\n",
              "    <tr>\n",
              "      <th>104</th>\n",
              "      <td>You are a very clever girl</td>\n",
              "      <td>Clever</td>\n",
              "    </tr>\n",
              "    <tr>\n",
              "      <th>116</th>\n",
              "      <td>Tell me a joke</td>\n",
              "      <td>Jokes</td>\n",
              "    </tr>\n",
              "    <tr>\n",
              "      <th>...</th>\n",
              "      <td>...</td>\n",
              "      <td>...</td>\n",
              "    </tr>\n",
              "    <tr>\n",
              "      <th>74</th>\n",
              "      <td>Comprendo</td>\n",
              "      <td>UnderstandQuery</td>\n",
              "    </tr>\n",
              "    <tr>\n",
              "      <th>62</th>\n",
              "      <td>That's helpful</td>\n",
              "      <td>Thanks</td>\n",
              "    </tr>\n",
              "    <tr>\n",
              "      <th>69</th>\n",
              "      <td>Wasn't speaking to you</td>\n",
              "      <td>NotTalking2U</td>\n",
              "    </tr>\n",
              "    <tr>\n",
              "      <th>112</th>\n",
              "      <td>I want to hear some gossip</td>\n",
              "      <td>Gossip</td>\n",
              "    </tr>\n",
              "    <tr>\n",
              "      <th>99</th>\n",
              "      <td>Can you see anyone in the camera?</td>\n",
              "      <td>WhoAmI</td>\n",
              "    </tr>\n",
              "  </tbody>\n",
              "</table>\n",
              "<p>143 rows × 2 columns</p>\n",
              "</div>\n",
              "      <button class=\"colab-df-convert\" onclick=\"convertToInteractive('df-6f22d4d5-ae62-43b6-a5fb-7d424a7d1c0d')\"\n",
              "              title=\"Convert this dataframe to an interactive table.\"\n",
              "              style=\"display:none;\">\n",
              "        \n",
              "  <svg xmlns=\"http://www.w3.org/2000/svg\" height=\"24px\"viewBox=\"0 0 24 24\"\n",
              "       width=\"24px\">\n",
              "    <path d=\"M0 0h24v24H0V0z\" fill=\"none\"/>\n",
              "    <path d=\"M18.56 5.44l.94 2.06.94-2.06 2.06-.94-2.06-.94-.94-2.06-.94 2.06-2.06.94zm-11 1L8.5 8.5l.94-2.06 2.06-.94-2.06-.94L8.5 2.5l-.94 2.06-2.06.94zm10 10l.94 2.06.94-2.06 2.06-.94-2.06-.94-.94-2.06-.94 2.06-2.06.94z\"/><path d=\"M17.41 7.96l-1.37-1.37c-.4-.4-.92-.59-1.43-.59-.52 0-1.04.2-1.43.59L10.3 9.45l-7.72 7.72c-.78.78-.78 2.05 0 2.83L4 21.41c.39.39.9.59 1.41.59.51 0 1.02-.2 1.41-.59l7.78-7.78 2.81-2.81c.8-.78.8-2.07 0-2.86zM5.41 20L4 18.59l7.72-7.72 1.47 1.35L5.41 20z\"/>\n",
              "  </svg>\n",
              "      </button>\n",
              "      \n",
              "  <style>\n",
              "    .colab-df-container {\n",
              "      display:flex;\n",
              "      flex-wrap:wrap;\n",
              "      gap: 12px;\n",
              "    }\n",
              "\n",
              "    .colab-df-convert {\n",
              "      background-color: #E8F0FE;\n",
              "      border: none;\n",
              "      border-radius: 50%;\n",
              "      cursor: pointer;\n",
              "      display: none;\n",
              "      fill: #1967D2;\n",
              "      height: 32px;\n",
              "      padding: 0 0 0 0;\n",
              "      width: 32px;\n",
              "    }\n",
              "\n",
              "    .colab-df-convert:hover {\n",
              "      background-color: #E2EBFA;\n",
              "      box-shadow: 0px 1px 2px rgba(60, 64, 67, 0.3), 0px 1px 3px 1px rgba(60, 64, 67, 0.15);\n",
              "      fill: #174EA6;\n",
              "    }\n",
              "\n",
              "    [theme=dark] .colab-df-convert {\n",
              "      background-color: #3B4455;\n",
              "      fill: #D2E3FC;\n",
              "    }\n",
              "\n",
              "    [theme=dark] .colab-df-convert:hover {\n",
              "      background-color: #434B5C;\n",
              "      box-shadow: 0px 1px 3px 1px rgba(0, 0, 0, 0.15);\n",
              "      filter: drop-shadow(0px 1px 2px rgba(0, 0, 0, 0.3));\n",
              "      fill: #FFFFFF;\n",
              "    }\n",
              "  </style>\n",
              "\n",
              "      <script>\n",
              "        const buttonEl =\n",
              "          document.querySelector('#df-6f22d4d5-ae62-43b6-a5fb-7d424a7d1c0d button.colab-df-convert');\n",
              "        buttonEl.style.display =\n",
              "          google.colab.kernel.accessAllowed ? 'block' : 'none';\n",
              "\n",
              "        async function convertToInteractive(key) {\n",
              "          const element = document.querySelector('#df-6f22d4d5-ae62-43b6-a5fb-7d424a7d1c0d');\n",
              "          const dataTable =\n",
              "            await google.colab.kernel.invokeFunction('convertToInteractive',\n",
              "                                                     [key], {});\n",
              "          if (!dataTable) return;\n",
              "\n",
              "          const docLinkHtml = 'Like what you see? Visit the ' +\n",
              "            '<a target=\"_blank\" href=https://colab.research.google.com/notebooks/data_table.ipynb>data table notebook</a>'\n",
              "            + ' to learn more about interactive tables.';\n",
              "          element.innerHTML = '';\n",
              "          dataTable['output_type'] = 'display_data';\n",
              "          await google.colab.output.renderOutput(dataTable, element);\n",
              "          const docLink = document.createElement('div');\n",
              "          docLink.innerHTML = docLinkHtml;\n",
              "          element.appendChild(docLink);\n",
              "        }\n",
              "      </script>\n",
              "    </div>\n",
              "  </div>\n",
              "  "
            ]
          },
          "metadata": {},
          "execution_count": 44
        }
      ]
    },
    {
      "cell_type": "code",
      "source": [
        "dataset['inputs'] = dataset['inputs'].apply(lambda sentence: [letter.lower() for letter in sentence if letter not in string.punctuation])\n",
        "dataset['inputs'] = dataset['inputs'].apply(lambda input: ''.join(input))\n",
        "dataset.head(10)"
      ],
      "metadata": {
        "colab": {
          "base_uri": "https://localhost:8080/",
          "height": 363
        },
        "id": "bunz6_nXLeU1",
        "outputId": "96e1ff9c-4f40-4054-99e6-eac55d26e704"
      },
      "execution_count": null,
      "outputs": [
        {
          "output_type": "execute_result",
          "data": {
            "text/plain": [
              "            inputs              tags\n",
              "0               hi          Greeting\n",
              "1         hi there          Greeting\n",
              "2             hola          Greeting\n",
              "3            hello          Greeting\n",
              "4      hello there          Greeting\n",
              "5              hya          Greeting\n",
              "6        hya there          Greeting\n",
              "7  my user is adam  GreetingResponse\n",
              "8     this is adam  GreetingResponse\n",
              "9        i am adam  GreetingResponse"
            ],
            "text/html": [
              "\n",
              "  <div id=\"df-f5e14a85-e37d-46e4-afd9-1bc98467a9a3\">\n",
              "    <div class=\"colab-df-container\">\n",
              "      <div>\n",
              "<style scoped>\n",
              "    .dataframe tbody tr th:only-of-type {\n",
              "        vertical-align: middle;\n",
              "    }\n",
              "\n",
              "    .dataframe tbody tr th {\n",
              "        vertical-align: top;\n",
              "    }\n",
              "\n",
              "    .dataframe thead th {\n",
              "        text-align: right;\n",
              "    }\n",
              "</style>\n",
              "<table border=\"1\" class=\"dataframe\">\n",
              "  <thead>\n",
              "    <tr style=\"text-align: right;\">\n",
              "      <th></th>\n",
              "      <th>inputs</th>\n",
              "      <th>tags</th>\n",
              "    </tr>\n",
              "  </thead>\n",
              "  <tbody>\n",
              "    <tr>\n",
              "      <th>0</th>\n",
              "      <td>hi</td>\n",
              "      <td>Greeting</td>\n",
              "    </tr>\n",
              "    <tr>\n",
              "      <th>1</th>\n",
              "      <td>hi there</td>\n",
              "      <td>Greeting</td>\n",
              "    </tr>\n",
              "    <tr>\n",
              "      <th>2</th>\n",
              "      <td>hola</td>\n",
              "      <td>Greeting</td>\n",
              "    </tr>\n",
              "    <tr>\n",
              "      <th>3</th>\n",
              "      <td>hello</td>\n",
              "      <td>Greeting</td>\n",
              "    </tr>\n",
              "    <tr>\n",
              "      <th>4</th>\n",
              "      <td>hello there</td>\n",
              "      <td>Greeting</td>\n",
              "    </tr>\n",
              "    <tr>\n",
              "      <th>5</th>\n",
              "      <td>hya</td>\n",
              "      <td>Greeting</td>\n",
              "    </tr>\n",
              "    <tr>\n",
              "      <th>6</th>\n",
              "      <td>hya there</td>\n",
              "      <td>Greeting</td>\n",
              "    </tr>\n",
              "    <tr>\n",
              "      <th>7</th>\n",
              "      <td>my user is adam</td>\n",
              "      <td>GreetingResponse</td>\n",
              "    </tr>\n",
              "    <tr>\n",
              "      <th>8</th>\n",
              "      <td>this is adam</td>\n",
              "      <td>GreetingResponse</td>\n",
              "    </tr>\n",
              "    <tr>\n",
              "      <th>9</th>\n",
              "      <td>i am adam</td>\n",
              "      <td>GreetingResponse</td>\n",
              "    </tr>\n",
              "  </tbody>\n",
              "</table>\n",
              "</div>\n",
              "      <button class=\"colab-df-convert\" onclick=\"convertToInteractive('df-f5e14a85-e37d-46e4-afd9-1bc98467a9a3')\"\n",
              "              title=\"Convert this dataframe to an interactive table.\"\n",
              "              style=\"display:none;\">\n",
              "        \n",
              "  <svg xmlns=\"http://www.w3.org/2000/svg\" height=\"24px\"viewBox=\"0 0 24 24\"\n",
              "       width=\"24px\">\n",
              "    <path d=\"M0 0h24v24H0V0z\" fill=\"none\"/>\n",
              "    <path d=\"M18.56 5.44l.94 2.06.94-2.06 2.06-.94-2.06-.94-.94-2.06-.94 2.06-2.06.94zm-11 1L8.5 8.5l.94-2.06 2.06-.94-2.06-.94L8.5 2.5l-.94 2.06-2.06.94zm10 10l.94 2.06.94-2.06 2.06-.94-2.06-.94-.94-2.06-.94 2.06-2.06.94z\"/><path d=\"M17.41 7.96l-1.37-1.37c-.4-.4-.92-.59-1.43-.59-.52 0-1.04.2-1.43.59L10.3 9.45l-7.72 7.72c-.78.78-.78 2.05 0 2.83L4 21.41c.39.39.9.59 1.41.59.51 0 1.02-.2 1.41-.59l7.78-7.78 2.81-2.81c.8-.78.8-2.07 0-2.86zM5.41 20L4 18.59l7.72-7.72 1.47 1.35L5.41 20z\"/>\n",
              "  </svg>\n",
              "      </button>\n",
              "      \n",
              "  <style>\n",
              "    .colab-df-container {\n",
              "      display:flex;\n",
              "      flex-wrap:wrap;\n",
              "      gap: 12px;\n",
              "    }\n",
              "\n",
              "    .colab-df-convert {\n",
              "      background-color: #E8F0FE;\n",
              "      border: none;\n",
              "      border-radius: 50%;\n",
              "      cursor: pointer;\n",
              "      display: none;\n",
              "      fill: #1967D2;\n",
              "      height: 32px;\n",
              "      padding: 0 0 0 0;\n",
              "      width: 32px;\n",
              "    }\n",
              "\n",
              "    .colab-df-convert:hover {\n",
              "      background-color: #E2EBFA;\n",
              "      box-shadow: 0px 1px 2px rgba(60, 64, 67, 0.3), 0px 1px 3px 1px rgba(60, 64, 67, 0.15);\n",
              "      fill: #174EA6;\n",
              "    }\n",
              "\n",
              "    [theme=dark] .colab-df-convert {\n",
              "      background-color: #3B4455;\n",
              "      fill: #D2E3FC;\n",
              "    }\n",
              "\n",
              "    [theme=dark] .colab-df-convert:hover {\n",
              "      background-color: #434B5C;\n",
              "      box-shadow: 0px 1px 3px 1px rgba(0, 0, 0, 0.15);\n",
              "      filter: drop-shadow(0px 1px 2px rgba(0, 0, 0, 0.3));\n",
              "      fill: #FFFFFF;\n",
              "    }\n",
              "  </style>\n",
              "\n",
              "      <script>\n",
              "        const buttonEl =\n",
              "          document.querySelector('#df-f5e14a85-e37d-46e4-afd9-1bc98467a9a3 button.colab-df-convert');\n",
              "        buttonEl.style.display =\n",
              "          google.colab.kernel.accessAllowed ? 'block' : 'none';\n",
              "\n",
              "        async function convertToInteractive(key) {\n",
              "          const element = document.querySelector('#df-f5e14a85-e37d-46e4-afd9-1bc98467a9a3');\n",
              "          const dataTable =\n",
              "            await google.colab.kernel.invokeFunction('convertToInteractive',\n",
              "                                                     [key], {});\n",
              "          if (!dataTable) return;\n",
              "\n",
              "          const docLinkHtml = 'Like what you see? Visit the ' +\n",
              "            '<a target=\"_blank\" href=https://colab.research.google.com/notebooks/data_table.ipynb>data table notebook</a>'\n",
              "            + ' to learn more about interactive tables.';\n",
              "          element.innerHTML = '';\n",
              "          dataTable['output_type'] = 'display_data';\n",
              "          await google.colab.output.renderOutput(dataTable, element);\n",
              "          const docLink = document.createElement('div');\n",
              "          docLink.innerHTML = docLinkHtml;\n",
              "          element.appendChild(docLink);\n",
              "        }\n",
              "      </script>\n",
              "    </div>\n",
              "  </div>\n",
              "  "
            ]
          },
          "metadata": {},
          "execution_count": 45
        }
      ]
    },
    {
      "cell_type": "code",
      "source": [
        "import tensorflow as tf\n",
        "from tensorflow.keras.preprocessing.text import Tokenizer\n",
        "from tensorflow.keras.preprocessing.sequence import pad_sequences"
      ],
      "metadata": {
        "id": "ESbU3BiyWxen"
      },
      "execution_count": null,
      "outputs": []
    },
    {
      "cell_type": "code",
      "source": [
        "tokenizer = Tokenizer(num_words=500)\n",
        "tokenizer.fit_on_texts(dataset['inputs'])\n",
        "train = tokenizer.texts_to_sequences(dataset['inputs'])\n",
        "features = pad_sequences(train)\n",
        "le = LabelEncoder()\n",
        "labels = le.fit_transform(dataset['tags'])"
      ],
      "metadata": {
        "id": "E81ReC3CVHtT"
      },
      "execution_count": null,
      "outputs": []
    },
    {
      "cell_type": "code",
      "source": [
        "print(labels.shape)"
      ],
      "metadata": {
        "colab": {
          "base_uri": "https://localhost:8080/"
        },
        "id": "yGHMLWs8W1AR",
        "outputId": "25bb9587-2ce2-4365-a915-77a681e66219"
      },
      "execution_count": null,
      "outputs": [
        {
          "output_type": "stream",
          "name": "stdout",
          "text": [
            "(143,)\n"
          ]
        }
      ]
    },
    {
      "cell_type": "code",
      "source": [
        "features = np.array(features)\n",
        "labels = np.array(labels)\n",
        "\n",
        "print(features)"
      ],
      "metadata": {
        "colab": {
          "base_uri": "https://localhost:8080/"
        },
        "id": "9YL_yEQ0EYto",
        "outputId": "e9dadbc2-35ad-4aa8-e45d-b338de0f4eb5"
      },
      "execution_count": null,
      "outputs": [
        {
          "output_type": "stream",
          "name": "stdout",
          "text": [
            "[[ 0  0  0 ...  0  0 48]\n",
            " [ 0  0  0 ...  0 48 49]\n",
            " [ 0  0  0 ...  0  0 63]\n",
            " ...\n",
            " [ 0 10  1 ... 79 80 13]\n",
            " [ 0 10  1 ... 16 62 13]\n",
            " [ 0  0  0 ... 61 16 62]]\n"
          ]
        }
      ]
    },
    {
      "cell_type": "code",
      "source": [
        "vocabulary = len(tokenizer.word_index)\n",
        "print(\"number of unique words : \",vocabulary)"
      ],
      "metadata": {
        "colab": {
          "base_uri": "https://localhost:8080/"
        },
        "id": "PJWFOcg8XMC9",
        "outputId": "16ad33eb-6d46-4c36-b964-1cbacfc407bd"
      },
      "execution_count": null,
      "outputs": [
        {
          "output_type": "stream",
          "name": "stdout",
          "text": [
            "number of unique words :  117\n"
          ]
        }
      ]
    },
    {
      "cell_type": "code",
      "source": [
        "# tokenizer.word_index"
      ],
      "metadata": {
        "id": "tui5GivPXVFz"
      },
      "execution_count": null,
      "outputs": []
    },
    {
      "cell_type": "code",
      "source": [
        "class NeuralNet(nn.Module):\n",
        "  def __init__(self, vocab_size, embedding_size, num_classes, hidden_size):\n",
        "    super().__init__()\n",
        "    self.l1 = nn.Embedding(vocab_size +1 , embedding_size)\n",
        "    self.l2 = nn.Conv1d(in_channels = 9, out_channels = 32, kernel_size = 5, stride = 1, padding = 0)\n",
        "    self.l3 = nn.LSTM(input_size = 96, hidden_size = hidden_size, num_layers = 1, bidirectional= False, batch_first = True)\n",
        "    self.l4 = nn.Linear(hidden_size, 128)\n",
        "    self.l5 = nn.Linear(128, num_classes)\n",
        "    self.dropout = nn.Dropout(0.2)\n",
        "    self.relu = nn.ReLU()\n",
        "\n",
        "  def forward(self, x):\n",
        "    out = self.l1(x)\n",
        "    out = self.l2(out)\n",
        "    out = self.relu(out)\n",
        "    out = self.dropout(out)\n",
        "    out = self.l3(out)\n",
        "    # print(out.shape)\n",
        "    out = self.dropout((out[0][:, -1]))\n",
        "    out = self.l4(out)\n",
        "    out = self.relu(out)\n",
        "    # print(out.shape)\n",
        "    out = self.dropout(out)\n",
        "    out = self.l5(out)\n",
        "\n",
        "    return out"
      ],
      "metadata": {
        "id": "UW8LD_RKXkws"
      },
      "execution_count": null,
      "outputs": []
    },
    {
      "cell_type": "code",
      "source": [
        "max_words = vocabulary + 1\n",
        "word_index = tokenizer.word_index\n",
        "embedding_matrix = np.zeros((max_words,100)).astype(object)\n",
        "for word , i in word_index.items():\n",
        "        embedding_vector = embeddings_index.get(word)\n",
        "        if embedding_vector is not None:\n",
        "            embedding_matrix[i] = embedding_vector"
      ],
      "metadata": {
        "id": "reDRTo1YhxB8"
      },
      "execution_count": null,
      "outputs": []
    },
    {
      "cell_type": "code",
      "source": [
        "class ChatDataset(Dataset):\n",
        "  def __init__(self):\n",
        "    super().__init__()\n",
        "    self.n_samples = len(features)\n",
        "    self.x_data = features\n",
        "    self.y_data = labels\n",
        "\n",
        "  def __getitem__(self, index):\n",
        "    return (self.x_data[index], self.y_data[index])\n",
        "\n",
        "  def __len__(self):\n",
        "    return self.n_samples"
      ],
      "metadata": {
        "id": "ANySRjVJEQp0"
      },
      "execution_count": null,
      "outputs": []
    },
    {
      "cell_type": "code",
      "source": [
        "# hyperparameters\n",
        "batch_size = 8\n",
        "input_size = 117\n",
        "embedding_size = 100\n",
        "hidden_size = 128\n",
        "output_size = 22\n",
        "device = 'cuda' if torch.cuda.is_available() else 'cpu'\n",
        "\n",
        "dataset = ChatDataset()\n",
        "# print(dataset.x_data)\n",
        "loader = DataLoader(dataset = dataset, batch_size = batch_size, shuffle = True, num_workers= 2)\n",
        "\n",
        "lr = 1e-5\n",
        "num_epochs = 5000"
      ],
      "metadata": {
        "id": "NkdmTJZjFDEH"
      },
      "execution_count": null,
      "outputs": []
    },
    {
      "cell_type": "code",
      "source": [
        "model = NeuralNet(117, 100, 22, hidden_size)\n",
        "\n",
        "embedding_matrix=np.vstack(embedding_matrix).astype(np.double)\n",
        "# print(torch.from_numpy(embedding_matrix).dtype)\n",
        "model.l1.weight = torch.nn.Parameter(torch.from_numpy(embedding_matrix))\n",
        "# model.l1.weight = model.l1.weight.to(torch.double) \n",
        "model.l1.requires_grad = False\n",
        "\n",
        "model.double().to(device)\n",
        "\n",
        "criterian = nn.CrossEntropyLoss()\n",
        "optimizer = torch.optim.Adam(model.parameters(), lr = lr)"
      ],
      "metadata": {
        "id": "im59DzidenTd"
      },
      "execution_count": null,
      "outputs": []
    },
    {
      "cell_type": "code",
      "source": [
        "training_loss = []\n",
        "for epoch in range(num_epochs):\n",
        "  for (words, labels) in loader:\n",
        "    words = words.to(device)\n",
        "    labels = labels.to(device)\n",
        "\n",
        "    # forward\n",
        "    outputs = model(words)\n",
        "    # print(\"outputs:\", outputs.shape, \"  labels:\", labels.shape)\n",
        "    loss = criterian(outputs, labels)\n",
        "\n",
        "    optimizer.zero_grad()\n",
        "    loss.backward()\n",
        "    optimizer.step()\n",
        "\n",
        "  if (epoch+1) % 50 == 0:\n",
        "    print(f'epoch {epoch + 1}/{num_epochs}, loss={loss.item():.4f}')\n",
        "\n",
        "  training_loss.append(loss.item())\n",
        "  if loss.item() < 0.1:\n",
        "    break\n",
        "\n",
        "print(f'final loss, loss = {loss.item():.4f}')"
      ],
      "metadata": {
        "colab": {
          "base_uri": "https://localhost:8080/"
        },
        "id": "ZhXqeGxTFZKM",
        "outputId": "7d610a62-3cfd-4c64-d284-1d2608b9918c"
      },
      "execution_count": null,
      "outputs": [
        {
          "output_type": "stream",
          "name": "stdout",
          "text": [
            "epoch 50/5000, loss=3.0582\n",
            "epoch 100/5000, loss=3.1088\n",
            "epoch 150/5000, loss=3.0709\n",
            "epoch 200/5000, loss=2.9410\n",
            "epoch 250/5000, loss=2.9344\n",
            "epoch 300/5000, loss=2.6593\n",
            "epoch 350/5000, loss=2.7155\n",
            "epoch 400/5000, loss=2.7377\n",
            "epoch 450/5000, loss=2.5087\n",
            "epoch 500/5000, loss=2.2597\n",
            "epoch 550/5000, loss=2.0289\n",
            "epoch 600/5000, loss=2.1049\n",
            "epoch 650/5000, loss=1.6046\n",
            "epoch 700/5000, loss=1.8965\n",
            "epoch 750/5000, loss=1.5844\n",
            "epoch 800/5000, loss=1.8396\n",
            "epoch 850/5000, loss=1.7587\n",
            "epoch 900/5000, loss=1.5995\n",
            "epoch 950/5000, loss=1.7475\n",
            "epoch 1000/5000, loss=1.5251\n",
            "epoch 1050/5000, loss=0.9966\n",
            "epoch 1100/5000, loss=0.9901\n",
            "epoch 1150/5000, loss=0.9137\n",
            "epoch 1200/5000, loss=0.9564\n",
            "epoch 1250/5000, loss=0.9764\n",
            "epoch 1300/5000, loss=0.5605\n",
            "epoch 1350/5000, loss=1.1838\n",
            "epoch 1400/5000, loss=0.8018\n",
            "epoch 1450/5000, loss=0.8709\n",
            "epoch 1500/5000, loss=0.3644\n",
            "epoch 1550/5000, loss=0.4847\n",
            "epoch 1600/5000, loss=1.3663\n",
            "epoch 1650/5000, loss=0.7414\n",
            "epoch 1700/5000, loss=0.6184\n",
            "epoch 1750/5000, loss=0.6659\n",
            "epoch 1800/5000, loss=0.3932\n",
            "epoch 1850/5000, loss=0.2878\n",
            "epoch 1900/5000, loss=0.2335\n",
            "final loss, loss = 0.0858\n"
          ]
        }
      ]
    },
    {
      "cell_type": "code",
      "source": [
        "import matplotlib as mpl\n",
        "import matplotlib.pyplot as plt\n",
        "\n",
        "def draw_plot(data, type_data):\n",
        "  mpl.style.use('seaborn')\n",
        "  plt.figure(figsize = (25, 5))\n",
        "  plt.plot(data,'darkorange', label='Train')\n",
        "  plt.xlabel('Epoch')\n",
        "  plt.ylabel(type_data)\n",
        "  plt.legend()"
      ],
      "metadata": {
        "id": "TP8nzEt-eTo3"
      },
      "execution_count": null,
      "outputs": []
    },
    {
      "cell_type": "code",
      "source": [
        "draw_plot(training_loss,'training set accuracy' )"
      ],
      "metadata": {
        "colab": {
          "base_uri": "https://localhost:8080/",
          "height": 334
        },
        "id": "r457JXqzeoN3",
        "outputId": "41caa315-c744-4b69-9a33-6fdcf154c05f"
      },
      "execution_count": null,
      "outputs": [
        {
          "output_type": "display_data",
          "data": {
            "text/plain": [
              "<Figure size 1800x360 with 1 Axes>"
            ],
            "image/png": "[encoded data removed]"
          },
          "metadata": {}
        }
      ]
    },
    {
      "cell_type": "code",
      "source": [
        "data = {\n",
        "    \"model_state\" : model.state_dict(),\n",
        "    \"input_size\" : input_size,\n",
        "    \"embedding_size\" : embedding_size,\n",
        "    \"hidden_size\" : hidden_size,\n",
        "    \"output_size\" : output_size,\n",
        "    \"responses\" : responses\n",
        "}\n",
        "\n",
        "FILE = \"/content/drive/MyDrive/data.pth\"\n",
        "torch.save(data, FILE)\n",
        "print(f'training complete. File saved to {FILE}')"
      ],
      "metadata": {
        "id": "kDB4gJQ5ZOxx",
        "colab": {
          "base_uri": "https://localhost:8080/"
        },
        "outputId": "628236d8-d874-4102-a93a-39e35c2f660a"
      },
      "execution_count": null,
      "outputs": [
        {
          "output_type": "stream",
          "name": "stdout",
          "text": [
            "training complete. File saved to /content/drive/MyDrive/data.pth\n"
          ]
        }
      ]
    },
    {
      "cell_type": "code",
      "source": [
        "import random"
      ],
      "metadata": {
        "id": "qo_8gv-vcRe8"
      },
      "execution_count": null,
      "outputs": []
    },
    {
      "cell_type": "code",
      "source": [
        "with open(data_file_path, 'r') as f:\n",
        "  intents = json.load(f)\n",
        "\n",
        "data = torch.load(FILE)\n",
        "input_size = data['input_size']\n",
        "hidden_size = data['hidden_size']\n",
        "embedding_size = data['embedding_size']\n",
        "output_size = data['output_size']\n",
        "responses = data['responses']\n",
        "model_state = data['model_state']\n",
        "            \n",
        "model = NeuralNet(input_size, embedding_size, output_size, hidden_size).to(device)\n",
        "model.load_state_dict(model_state)\n",
        "model.eval()"
      ],
      "metadata": {
        "id": "SgEw_2nsgRdA",
        "colab": {
          "base_uri": "https://localhost:8080/"
        },
        "outputId": "edc6138b-2eae-4760-d87a-dff4461cb0cd"
      },
      "execution_count": null,
      "outputs": [
        {
          "output_type": "execute_result",
          "data": {
            "text/plain": [
              "NeuralNet(\n",
              "  (l1): Embedding(118, 100)\n",
              "  (l2): Conv1d(9, 32, kernel_size=(5,), stride=(1,))\n",
              "  (l3): LSTM(96, 128, batch_first=True)\n",
              "  (l4): Linear(in_features=128, out_features=128, bias=True)\n",
              "  (l5): Linear(in_features=128, out_features=22, bias=True)\n",
              "  (dropout): Dropout(p=0.2, inplace=False)\n",
              "  (relu): ReLU()\n",
              ")"
            ]
          },
          "metadata": {},
          "execution_count": 62
        }
      ]
    },
    {
      "cell_type": "code",
      "source": [
        "bot_name = \"Chat Bot\"\n",
        "print(\"Lets chat! type 'quit' to exit\")\n",
        "while True:\n",
        "  sentence = input('You: ')\n",
        "  if sentence == \"quit\":\n",
        "    break\n",
        "\n",
        "  texts = []\n",
        "  pred_input = sentence\n",
        "  pred_input = [letters.lower() for letters in pred_input if letters not in string.punctuation]\n",
        "  pred_input = ''.join(pred_input)\n",
        "  texts.append(pred_input)\n",
        "  pred_input = tokenizer.texts_to_sequences(texts)\n",
        "  pred_input = np.array(pred_input).reshape(-1)\n",
        "  pred_input = pad_sequences([pred_input],9)\n",
        "  pred_input = torch.from_numpy(pred_input).to(device)\n",
        "\n",
        "  # sentence = tokenize(sentence)\n",
        "  # X = bag_of_words(sentence, all_words)\n",
        "  # X = X.reshape(1, X.shape[0])\n",
        "  # X = torch.from_numpy(X)\n",
        "\n",
        "  output = model(pred_input).to(device)\n",
        "  _, predicted = torch.max(output, dim = 1)\n",
        "  tag = tags[predicted.item()]\n",
        "\n",
        "  probs = torch.softmax(output, dim =1)\n",
        "  # print(probs, predicted.item())\n",
        "  prob = probs[0][predicted.item()]\n",
        "\n",
        "  if prob.item() > 0.51:\n",
        "    response_tag = le.inverse_transform([predicted.item()])[0]\n",
        "    print(f\"{bot_name}: {random.choice(responses[response_tag])}\")\n",
        "  else:\n",
        "    print(f\"{bot_name}: I do not understand...\")"
      ],
      "metadata": {
        "id": "qybEgGwihYNb",
        "colab": {
          "base_uri": "https://localhost:8080/"
        },
        "outputId": "db795f01-8645-44a7-9802-867b0823541e"
      },
      "execution_count": null,
      "outputs": [
        {
          "name": "stdout",
          "output_type": "stream",
          "text": [
            "Lets chat! type 'quit' to exit\n",
            "You: hi\n",
            "Chat Bot: Hi human, please tell me your GeniSys user\n",
            "You: how are you\n",
            "Chat Bot: Hello, how are you? I am great thanks! Please tell me your GeniSys user\n",
            "You: tell me a joke\n",
            "Chat Bot: A restaurant nearby had a sign in the window which said 'We serve breakfast at any time', so I ordered French toast in the Renaissance.\n",
            "You: what is your name\n",
            "Chat Bot: I do not understand...\n",
            "You: tell me your name\n",
            "Chat Bot: Your name is <HUMAN>, how can I help you?\n",
            "You: what is your name\n",
            "Chat Bot: I do not understand...\n",
            "You: tell me my name\n",
            "Chat Bot: They call you <HUMAN>, what can I do for you?\n",
            "You: quit\n"
          ]
        }
      ]
    },
    {
      "cell_type": "code",
      "source": [],
      "metadata": {
        "id": "-A_N1ixlmi0e"
      },
      "execution_count": null,
      "outputs": []
    }
  ]
}